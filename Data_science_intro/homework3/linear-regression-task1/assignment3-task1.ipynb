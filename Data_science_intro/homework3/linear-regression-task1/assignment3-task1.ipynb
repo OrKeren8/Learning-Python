{
 "cells": [
  {
   "cell_type": "code",
   "execution_count": 51,
   "id": "e1345b1b-071b-4853-b6d0-c732fd2284a8",
   "metadata": {
    "tags": []
   },
   "outputs": [],
   "source": [
    "import numpy as np\n",
    "import pandas as pd\n",
    "import statsmodels.api as sm"
   ]
  },
  {
   "cell_type": "code",
   "execution_count": 52,
   "id": "22f46665-c9f0-40d0-97fb-55c11a0060e2",
   "metadata": {
    "tags": []
   },
   "outputs": [
    {
     "name": "stdout",
     "output_type": "stream",
     "text": [
      "                            OLS Regression Results                            \n",
      "==============================================================================\n",
      "Dep. Variable:               expenses   R-squared:                       0.750\n",
      "Model:                            OLS   Adj. R-squared:                  0.748\n",
      "Method:                 Least Squares   F-statistic:                     412.5\n",
      "Date:                Thu, 22 May 2025   Prob (F-statistic):               0.00\n",
      "Time:                        19:25:50   Log-Likelihood:                -12613.\n",
      "No. Observations:                1246   AIC:                         2.525e+04\n",
      "Df Residuals:                    1236   BIC:                         2.530e+04\n",
      "Df Model:                           9                                         \n",
      "Covariance Type:            nonrobust                                         \n",
      "====================================================================================\n",
      "                       coef    std err          t      P>|t|      [0.025      0.975]\n",
      "------------------------------------------------------------------------------------\n",
      "const            -1.436e+04   1111.643    -12.915      0.000   -1.65e+04   -1.22e+04\n",
      "age                259.7584     12.346     21.040      0.000     235.537     283.980\n",
      "BMI                386.0554     40.199      9.604      0.000     307.190     464.921\n",
      "weight             -20.6477     12.612     -1.637      0.102     -45.391       4.095\n",
      "children           121.1173    139.594      0.868      0.386    -152.750     394.985\n",
      "gender_male       -128.6326    344.337     -0.374      0.709    -804.183     546.917\n",
      "smoker_yes        2.397e+04    430.933     55.626      0.000    2.31e+04    2.48e+04\n",
      "region_northwest  -302.4755    493.238     -0.613      0.540   -1270.152     665.201\n",
      "region_southeast -1102.6435    495.839     -2.224      0.026   -2075.422    -129.865\n",
      "region_southwest -1055.4491    496.523     -2.126      0.034   -2029.571     -81.328\n",
      "==============================================================================\n",
      "Omnibus:                      269.411   Durbin-Watson:                   2.070\n",
      "Prob(Omnibus):                  0.000   Jarque-Bera (JB):              610.943\n",
      "Skew:                           1.188   Prob(JB):                    2.16e-133\n",
      "Kurtosis:                       5.474   Cond. No.                         607.\n",
      "==============================================================================\n",
      "\n",
      "Notes:\n",
      "[1] Standard Errors assume that the covariance matrix of the errors is correctly specified.\n"
     ]
    }
   ],
   "source": [
    "from sklearn.preprocessing import StandardScaler\n",
    "\n",
    "def fit_model(predictors, real_values):\n",
    "    predictors = sm.add_constant(predictors)\n",
    "    model = sm.OLS(real_values, predictors)\n",
    "    return model.fit()\n",
    "\n",
    "df = pd.read_csv('insurance_data.csv')\n",
    "\n",
    "# create dataframe\n",
    "df_encoded = pd.get_dummies(df, drop_first=True)\n",
    "df_encoded = df_encoded.dropna()\n",
    "predictors = df_encoded.drop('expenses', axis=1)\n",
    "res1 = fit_model(predictors, df_encoded['expenses'])\n",
    "\n",
    "print(res1.summary())\n",
    "\n",
    "# multi collinearity\n",
    "predictors = predictors.drop('weight', axis=1)\n",
    "res2 = fit_model(predictors, df_encoded['expenses'])\n",
    "\n",
    "# only significant\n",
    "predictors = predictors.drop(['region_northwest', 'children', 'gender_male'], axis=1)\n",
    "res3 = fit_model(predictors, df_encoded['expenses'])\n",
    "\n",
    "#scale data\n",
    "scalar = StandardScaler()\n",
    "scalar.fit(predictors)\n",
    "scalar_scaled = scalar.transform(predictors)\n",
    "scalar_scaled = pd.DataFrame(scalar_scaled, columns=predictors.columns, index=predictors.index)\n",
    "res4 = fit_model(scalar_scaled, df_encoded['expenses'])\n",
    "\n",
    "real_values = df_encoded['expenses']\n"
   ]
  },
  {
   "cell_type": "code",
   "execution_count": 53,
   "id": "479584e7-c40f-4b18-8da1-fcdb0cd72f65",
   "metadata": {
    "tags": []
   },
   "outputs": [],
   "source": [
    "# comments:\n",
    "\n",
    "# (1) there is a small amount of rows with missing values - they can be dropped\n",
    "\n",
    "# (2) you may want to make use of https://pandas.pydata.org/docs/reference/api/pandas.get_dummies.html\n",
    "# read through the function documentation carefully, and use dtype=float for the \"dtype\" parameter\n",
    "\n",
    "# (3) perform all your computations (solve the task) before the questions part, in a complete, clear and effective manner\n",
    "\n",
    "# (4) in the questions part only print answers based on your solution"
   ]
  },
  {
   "cell_type": "markdown",
   "id": "5fdc46eb-6745-496b-9f05-25da4f07fdb4",
   "metadata": {},
   "source": [
    "#### Questions (answer the questions, all computations should precede this part)"
   ]
  },
  {
   "cell_type": "markdown",
   "id": "3bf55d3b-5ab0-4a85-907a-265890678f32",
   "metadata": {},
   "source": [
    "#### Question 1"
   ]
  },
  {
   "cell_type": "code",
   "execution_count": 54,
   "id": "0e334107-1631-4a06-a27f-74cfe0c64bea",
   "metadata": {
    "tags": []
   },
   "outputs": [
    {
     "name": "stdout",
     "output_type": "stream",
     "text": [
      "i did removed the weight predicator because of its correlation with the BMI predicator - there is a direct use of weight in bmi calculations\n"
     ]
    }
   ],
   "source": [
    "# did you remove any numerical predictor from the data based on multi-collinearity considerations?\n",
    "# if not - why, if yes - how did you decide on the predictor to remove?\n",
    "# print a short (one-sentence) answer using the print() command\n",
    "\n",
    "print(\"i did removed the weight predicator because of its correlation with the BMI predicator - there is a direct use of weight in bmi calculations\")"
   ]
  },
  {
   "cell_type": "markdown",
   "id": "e8dcf249-0a7a-48e6-81dc-b8ffb578f286",
   "metadata": {},
   "source": [
    "#### Question 2"
   ]
  },
  {
   "cell_type": "code",
   "execution_count": 55,
   "id": "aa4e2e3a-40af-41e6-a93f-c52c08e6d8c8",
   "metadata": {
    "tags": []
   },
   "outputs": [
    {
     "data": {
      "text/html": [
       "<div>\n",
       "<style scoped>\n",
       "    .dataframe tbody tr th:only-of-type {\n",
       "        vertical-align: middle;\n",
       "    }\n",
       "\n",
       "    .dataframe tbody tr th {\n",
       "        vertical-align: top;\n",
       "    }\n",
       "\n",
       "    .dataframe thead th {\n",
       "        text-align: right;\n",
       "    }\n",
       "</style>\n",
       "<table border=\"1\" class=\"dataframe\">\n",
       "  <thead>\n",
       "    <tr style=\"text-align: right;\">\n",
       "      <th></th>\n",
       "      <th>0</th>\n",
       "      <th>1</th>\n",
       "    </tr>\n",
       "  </thead>\n",
       "  <tbody>\n",
       "    <tr>\n",
       "      <th>0</th>\n",
       "      <td>amount</td>\n",
       "      <td>259.2854</td>\n",
       "    </tr>\n",
       "  </tbody>\n",
       "</table>\n",
       "</div>"
      ],
      "text/plain": [
       "        0         1\n",
       "0  amount  259.2854"
      ]
     },
     "execution_count": 55,
     "metadata": {},
     "output_type": "execute_result"
    }
   ],
   "source": [
    "# what is the amount of money a person is likely to spend on medical expenses with each additional year of age?\n",
    "# write here the value itself (hardcoded) based on your inspection of the regression summary (after taking care of multi-collinearity)\n",
    "# display your answer as a dataframe (as in assignment 2)\n",
    "result = [(\"amount\", 259.2854)]\n",
    "pd.DataFrame(result)"
   ]
  },
  {
   "cell_type": "markdown",
   "id": "bbc895f4-027e-47f9-b864-03ac5f0c7115",
   "metadata": {},
   "source": [
    "#### Question 3"
   ]
  },
  {
   "cell_type": "code",
   "execution_count": 56,
   "id": "a2f20dcd-e1d1-4bdb-80ec-95ec821dd540",
   "metadata": {
    "tags": []
   },
   "outputs": [
    {
     "data": {
      "text/html": [
       "<div>\n",
       "<style scoped>\n",
       "    .dataframe tbody tr th:only-of-type {\n",
       "        vertical-align: middle;\n",
       "    }\n",
       "\n",
       "    .dataframe tbody tr th {\n",
       "        vertical-align: top;\n",
       "    }\n",
       "\n",
       "    .dataframe thead th {\n",
       "        text-align: right;\n",
       "    }\n",
       "</style>\n",
       "<table border=\"1\" class=\"dataframe\">\n",
       "  <thead>\n",
       "    <tr style=\"text-align: right;\">\n",
       "      <th></th>\n",
       "      <th>predictor</th>\n",
       "      <th>effect</th>\n",
       "    </tr>\n",
       "  </thead>\n",
       "  <tbody>\n",
       "    <tr>\n",
       "      <th>0</th>\n",
       "      <td>smoker</td>\n",
       "      <td>positive</td>\n",
       "    </tr>\n",
       "    <tr>\n",
       "      <th>1</th>\n",
       "      <td>age</td>\n",
       "      <td>positive</td>\n",
       "    </tr>\n",
       "    <tr>\n",
       "      <th>2</th>\n",
       "      <td>BMI</td>\n",
       "      <td>positive</td>\n",
       "    </tr>\n",
       "  </tbody>\n",
       "</table>\n",
       "</div>"
      ],
      "text/plain": [
       "  predictor    effect\n",
       "0    smoker  positive\n",
       "1       age  positive\n",
       "2       BMI  positive"
      ]
     },
     "execution_count": 56,
     "metadata": {},
     "output_type": "execute_result"
    }
   ],
   "source": [
    "# consider the predictors: age, gender, BMI, weight, children, smoker\n",
    "# what predictors (out of this list) have significant contribution to predicting medical expenses?\n",
    "\n",
    "# report only significant predictors sorted by their contribution to the prediction from highest to lowest\n",
    "# for each predictor specify if it has a positive or a negative effect on the medical expenses\n",
    "\n",
    "# display your answer as a dataframe with two columns: (1) predictor, (2) effect (positive or negative)\n",
    "# no need to include the constant (b_0) value\n",
    "result = [(\"smoker\", \"positive\"), (\"age\", \"positive\"), (\"BMI\", \"positive\")]\n",
    "pd.DataFrame(result, columns=[\"predictor\", \"effect\"])"
   ]
  },
  {
   "cell_type": "markdown",
   "id": "3b37b6b9-4612-4b16-ba1f-d528c5edf60a",
   "metadata": {},
   "source": [
    "#### Question 4"
   ]
  },
  {
   "cell_type": "code",
   "execution_count": 57,
   "id": "41fd402f-688f-45d3-8193-886ec12b9895",
   "metadata": {},
   "outputs": [
    {
     "data": {
      "text/html": [
       "<div>\n",
       "<style scoped>\n",
       "    .dataframe tbody tr th:only-of-type {\n",
       "        vertical-align: middle;\n",
       "    }\n",
       "\n",
       "    .dataframe tbody tr th {\n",
       "        vertical-align: top;\n",
       "    }\n",
       "\n",
       "    .dataframe thead th {\n",
       "        text-align: right;\n",
       "    }\n",
       "</style>\n",
       "<table border=\"1\" class=\"dataframe\">\n",
       "  <thead>\n",
       "    <tr style=\"text-align: right;\">\n",
       "      <th></th>\n",
       "      <th>version</th>\n",
       "      <th>r-squared</th>\n",
       "    </tr>\n",
       "  </thead>\n",
       "  <tbody>\n",
       "    <tr>\n",
       "      <th>0</th>\n",
       "      <td>all</td>\n",
       "      <td>0.750237</td>\n",
       "    </tr>\n",
       "    <tr>\n",
       "      <th>1</th>\n",
       "      <td>multi-collinearity</td>\n",
       "      <td>0.749695</td>\n",
       "    </tr>\n",
       "    <tr>\n",
       "      <th>2</th>\n",
       "      <td>significant</td>\n",
       "      <td>0.749442</td>\n",
       "    </tr>\n",
       "    <tr>\n",
       "      <th>3</th>\n",
       "      <td>scaling</td>\n",
       "      <td>0.749442</td>\n",
       "    </tr>\n",
       "  </tbody>\n",
       "</table>\n",
       "</div>"
      ],
      "text/plain": [
       "              version  r-squared\n",
       "0                 all   0.750237\n",
       "1  multi-collinearity   0.749695\n",
       "2         significant   0.749442\n",
       "3             scaling   0.749442"
      ]
     },
     "execution_count": 57,
     "metadata": {},
     "output_type": "execute_result"
    }
   ],
   "source": [
    "# compute R-squared for four regression versions:\n",
    "# (1) including all predictors from the csv file\n",
    "# (2) including predictors after taking care of the multi-collineraity issue\n",
    "# (3) (2) above + including only predictors with signficant contribution to the model\n",
    "# (4) (3) above + after preditor scaling\n",
    "result = [(\"all\", res1.rsquared), \n",
    "          (\"multi-collinearity\", res2.rsquared), \n",
    "          (\"significant\", res3.rsquared), \n",
    "          (\"scaling\", res4.rsquared)]\n",
    "pd.DataFrame(result, columns=[\"version\", \"r-squared\"])"
   ]
  },
  {
   "cell_type": "markdown",
   "id": "ab11db55-5c53-4daf-be78-bfaac37c61b4",
   "metadata": {},
   "source": [
    "#### Question 5"
   ]
  },
  {
   "cell_type": "code",
   "execution_count": 58,
   "id": "9e1efc6c-546b-4f9b-8605-15f7a8f58788",
   "metadata": {},
   "outputs": [],
   "source": [
    "# what medical expenses may expect a person with the following data?\n",
    "# age=66, gender=female, BMI=35.4, weight=70.5, children=1, smoker=no, region=southeast\n",
    "\n",
    "# for this question only, include you computation *in the answer below* using model (3) from Question 4\n",
    "\n",
    "# !! you may face difficuly adding a constant (sm.add_constant()) to a DataFrame with a single row\n",
    "# try to search for solution, and in case you need a hint, you may find these links useful - read carefully:\n",
    "# https://github.com/statsmodels/statsmodels/issues/7057\n",
    "# https://www.statsmodels.org/0.9.0/generated/statsmodels.tools.tools.add_constant.html\n",
    "# in this specific case add_constant() has a somewhat unexpected behavior"
   ]
  },
  {
   "cell_type": "code",
   "execution_count": 59,
   "id": "70547614-8c77-40c7-9982-1211a2ed0959",
   "metadata": {},
   "outputs": [
    {
     "data": {
      "text/html": [
       "<div>\n",
       "<style scoped>\n",
       "    .dataframe tbody tr th:only-of-type {\n",
       "        vertical-align: middle;\n",
       "    }\n",
       "\n",
       "    .dataframe tbody tr th {\n",
       "        vertical-align: top;\n",
       "    }\n",
       "\n",
       "    .dataframe thead th {\n",
       "        text-align: right;\n",
       "    }\n",
       "</style>\n",
       "<table border=\"1\" class=\"dataframe\">\n",
       "  <thead>\n",
       "    <tr style=\"text-align: right;\">\n",
       "      <th></th>\n",
       "      <th>const</th>\n",
       "      <th>age</th>\n",
       "      <th>BMI</th>\n",
       "      <th>smoker_yes</th>\n",
       "      <th>region_southeast</th>\n",
       "      <th>region_southwest</th>\n",
       "      <th>prediction</th>\n",
       "    </tr>\n",
       "  </thead>\n",
       "  <tbody>\n",
       "    <tr>\n",
       "      <th>0</th>\n",
       "      <td>1.0</td>\n",
       "      <td>66</td>\n",
       "      <td>35.4</td>\n",
       "      <td>0</td>\n",
       "      <td>1</td>\n",
       "      <td>0</td>\n",
       "      <td>13856.508189</td>\n",
       "    </tr>\n",
       "  </tbody>\n",
       "</table>\n",
       "</div>"
      ],
      "text/plain": [
       "   const  age   BMI  smoker_yes  region_southeast  region_southwest  \\\n",
       "0    1.0   66  35.4           0                 1                 0   \n",
       "\n",
       "     prediction  \n",
       "0  13856.508189  "
      ]
     },
     "execution_count": 59,
     "metadata": {},
     "output_type": "execute_result"
    }
   ],
   "source": [
    "predictors_test = pd.DataFrame({\n",
    "    \"age\": [66],\n",
    "    \"BMI\": [35.4],\n",
    "    \"smoker_yes\": [0],\n",
    "    \"region_southeast\": [1],\n",
    "    \"region_southwest\": [0],\n",
    "})\n",
    "predictors_test = sm.add_constant(predictors_test, has_constant='add')\n",
    "prediction = res3.predict(predictors_test)\n",
    "result = predictors_test.copy()\n",
    "result[\"prediction\"] = prediction\n",
    "pd.DataFrame(result)"
   ]
  }
 ],
 "metadata": {
  "kernelspec": {
   "display_name": "base",
   "language": "python",
   "name": "python3"
  },
  "language_info": {
   "codemirror_mode": {
    "name": "ipython",
    "version": 3
   },
   "file_extension": ".py",
   "mimetype": "text/x-python",
   "name": "python",
   "nbconvert_exporter": "python",
   "pygments_lexer": "ipython3",
   "version": "3.9.13"
  }
 },
 "nbformat": 4,
 "nbformat_minor": 5
}

{
 "cells": [
  {
   "cell_type": "code",
   "execution_count": 1,
   "id": "d1535376-2807-4bca-98d6-9e9519003015",
   "metadata": {},
   "outputs": [],
   "source": [
    "### in this task missing values *should be imputed* with the mean value of the column\n",
    "### impute missing values only in columns required for solutions"
   ]
  },
  {
   "cell_type": "code",
   "execution_count": 2,
   "id": "f8255ea1-d3e9-4fbd-90b1-02d0ff7b7f9e",
   "metadata": {
    "tags": []
   },
   "outputs": [],
   "source": [
    "import pandas as pd\n",
    "import matplotlib.pyplot as plt\n",
    "plt.rcParams.update({'font.size': 20, 'figure.figsize': (8, 4)})\n",
    "\n",
    "#%matplotlib inline\n",
    "#import matplotlib_inline\n",
    "#matplotlib_inline.backend_inline.set_matplotlib_formats('svg')\n",
    "\n",
    "import seaborn as sns\n",
    "sns.set()"
   ]
  },
  {
   "cell_type": "code",
   "execution_count": 3,
   "id": "02062230-22bd-45bd-99c6-bf8a79bfcc2d",
   "metadata": {},
   "outputs": [
    {
     "name": "stdout",
     "output_type": "stream",
     "text": [
      "<class 'pandas.core.frame.DataFrame'>\n",
      "RangeIndex: 946 entries, 0 to 945\n",
      "Data columns (total 9 columns):\n",
      " #   Column       Non-Null Count  Dtype  \n",
      "---  ------       --------------  -----  \n",
      " 0   title        946 non-null    object \n",
      " 1   author       824 non-null    object \n",
      " 2   price        944 non-null    float64\n",
      " 3   pages        934 non-null    float64\n",
      " 4   avg_reviews  823 non-null    float64\n",
      " 5   n_reviews    946 non-null    int64  \n",
      " 6   dimensions   914 non-null    object \n",
      " 7   weight       943 non-null    object \n",
      " 8   language     943 non-null    object \n",
      "dtypes: float64(3), int64(1), object(5)\n",
      "memory usage: 66.6+ KB\n"
     ]
    }
   ],
   "source": [
    "df = pd.read_csv(\"amazon_books_data.csv\")\n",
    "df.info()"
   ]
  },
  {
   "cell_type": "markdown",
   "id": "4c919712-dccb-4dbc-8e3d-baa0f3d0e4b2",
   "metadata": {},
   "source": [
    "#### Question 1"
   ]
  },
  {
   "cell_type": "code",
   "execution_count": 4,
   "id": "49c51667-303d-4ae5-a449-bc61d58f1b13",
   "metadata": {},
   "outputs": [
    {
     "data": {
      "text/plain": [
       "'\\nprice: numerical-continuous\\npages: numerical-discrete\\navg_reviews: numerical-continuous\\nn_reviews: numerical-discrete\\nlanguage: categorical-nominal\\n'"
      ]
     },
     "execution_count": 4,
     "metadata": {},
     "output_type": "execute_result"
    }
   ],
   "source": [
    "### decide what data type each column is: numerical-discrete, numerical-continuous, categorical-nominal, categorical-ordinal\n",
    "### consider only [price, pages, avg_reviews, n_reviews, language] for this analysis\n",
    "### no need to add explanations, just the final answer\n",
    "\n",
    "\"\"\"\n",
    "price: numerical-continuous\n",
    "pages: numerical-discrete\n",
    "avg_reviews: numerical-continuous\n",
    "n_reviews: numerical-discrete\n",
    "language: categorical-nominal\n",
    "\"\"\""
   ]
  },
  {
   "cell_type": "markdown",
   "id": "165920b1-0135-4593-a162-8d4eba529990",
   "metadata": {},
   "source": [
    "#### Question 2"
   ]
  },
  {
   "cell_type": "code",
   "execution_count": 5,
   "id": "347ba3ec-c639-4589-bbd7-3f3449d31829",
   "metadata": {},
   "outputs": [
    {
     "name": "stdout",
     "output_type": "stream",
     "text": [
      "positive skewness with value of 1.1281671549688748\n"
     ]
    },
    {
     "data": {
      "image/png": "[encoded data removed]",
      "text/plain": [
       "<Figure size 800x400 with 1 Axes>"
      ]
     },
     "metadata": {},
     "output_type": "display_data"
    }
   ],
   "source": [
    "### plot a histogram of books' number of pages using 50 bins\n",
    "### decide if the distribution is symmetric, skewed positive or skewed negative\n",
    "### use both the histogram and required computations for this decision\n",
    "\n",
    "plt.hist(df['pages'], bins=50)\n",
    "skewness = df['pages'].skew()\n",
    "print(f\"positive skewness with value of {skewness}\")"
   ]
  },
  {
   "cell_type": "markdown",
   "id": "3dc58e4a-c25d-4267-b319-93891138bd5f",
   "metadata": {},
   "source": [
    "#### Question 3"
   ]
  },
  {
   "cell_type": "code",
   "execution_count": 6,
   "id": "d56c2046-fdd2-44e8-bd7b-0f6c4e191833",
   "metadata": {},
   "outputs": [
    {
     "name": "stdout",
     "output_type": "stream",
     "text": [
      "positive skewness with value of 0    1.637934\n",
      "dtype: float64\n"
     ]
    },
    {
     "data": {
      "image/png": "[encoded data removed]",
      "text/plain": [
       "<Figure size 800x400 with 1 Axes>"
      ]
     },
     "metadata": {},
     "output_type": "display_data"
    }
   ],
   "source": [
    "### inspect the 'weight' column carefully\n",
    "### plot a histogram of books' weight using 50 bins\n",
    "### decide if the distribution is symmetric, skewed positive or skewed negative\n",
    "### use both the histogram and required computations for this decision\n",
    "\n",
    "weights = df['weight'].str.extract(r'([0-9.]+)').astype(float)\n",
    "plt.hist(weights, bins=50)\n",
    "skewness = weights.skew()\n",
    "print(f\"positive skewness with value of {skewness}\")"
   ]
  },
  {
   "cell_type": "markdown",
   "id": "2b341789",
   "metadata": {},
   "source": [
    "#### Question 4"
   ]
  },
  {
   "cell_type": "code",
   "execution_count": 7,
   "id": "8cb0cdb7-8b3d-4a84-b30c-e59df8797135",
   "metadata": {},
   "outputs": [
    {
     "data": {
      "text/plain": [
       "0.42194812158572326"
      ]
     },
     "execution_count": 7,
     "metadata": {},
     "output_type": "execute_result"
    }
   ],
   "source": [
    "### compute Pearson's correlation between a book's volume (inferred by its dimensions) and price in the data\n",
    "### (you can use the built-in Series.corr() function for that purpose)\n",
    "\n",
    "df[[\"x\", \"y\", \"z\"]] = df[\"dimensions\"].str.extract(r'([0-9.]+).*?([0-9.]+).*?([0-9.]+)').astype(float)\n",
    "df[\"x\"].fillna(df[\"x\"].mean(), inplace=True)\n",
    "df[\"y\"].fillna(df[\"y\"].mean(), inplace=True)\n",
    "df[\"z\"].fillna(df[\"z\"].mean(), inplace=True)\n",
    "df[\"price\"].fillna(df[\"price\"].mean(), inplace=True)\n",
    "df[\"volume\"] = df[[\"x\", \"y\", \"z\"]].prod(axis=1)\n",
    "df[\"volume\"].corr(df[\"price\"])\n"
   ]
  },
  {
   "cell_type": "markdown",
   "id": "1f59426d-26d0-4110-bdc1-fafe3157edb7",
   "metadata": {},
   "source": [
    "#### Question 5"
   ]
  },
  {
   "cell_type": "code",
   "execution_count": 8,
   "id": "9bd71993-a837-4a79-82c4-06bc67ac2c38",
   "metadata": {},
   "outputs": [
    {
     "data": {
      "text/plain": [
       "<matplotlib.collections.PathCollection at 0x2797293d1f0>"
      ]
     },
     "execution_count": 8,
     "metadata": {},
     "output_type": "execute_result"
    },
    {
     "data": {
      "image/png": "[encoded data removed]",
      "text/plain": [
       "<Figure size 800x400 with 1 Axes>"
      ]
     },
     "metadata": {},
     "output_type": "display_data"
    }
   ],
   "source": [
    "### show a scatter plot of a book's volume (inferred by its dimensions) and price\n",
    "### do the results fit the score you got in the previous cell? (no need to print answer to this question)\n",
    "\n",
    "\n",
    "plt.scatter(df[\"volume\"], df[\"price\"])"
   ]
  },
  {
   "cell_type": "markdown",
   "id": "fea8fab2-2945-43df-b35d-9853c1afb669",
   "metadata": {},
   "source": [
    "#### Question 6"
   ]
  },
  {
   "cell_type": "code",
   "execution_count": 9,
   "id": "0d891df9-7692-4952-a2b9-45c91038ad20",
   "metadata": {},
   "outputs": [
    {
     "data": {
      "text/html": [
       "<div>\n",
       "<style scoped>\n",
       "    .dataframe tbody tr th:only-of-type {\n",
       "        vertical-align: middle;\n",
       "    }\n",
       "\n",
       "    .dataframe tbody tr th {\n",
       "        vertical-align: top;\n",
       "    }\n",
       "\n",
       "    .dataframe thead th {\n",
       "        text-align: right;\n",
       "    }\n",
       "</style>\n",
       "<table border=\"1\" class=\"dataframe\">\n",
       "  <thead>\n",
       "    <tr style=\"text-align: right;\">\n",
       "      <th></th>\n",
       "      <th>keyphrase</th>\n",
       "      <th>book count</th>\n",
       "    </tr>\n",
       "  </thead>\n",
       "  <tbody>\n",
       "    <tr>\n",
       "      <th>0</th>\n",
       "      <td>data science</td>\n",
       "      <td>111</td>\n",
       "    </tr>\n",
       "    <tr>\n",
       "      <th>1</th>\n",
       "      <td>data analytics</td>\n",
       "      <td>28</td>\n",
       "    </tr>\n",
       "    <tr>\n",
       "      <th>2</th>\n",
       "      <td>data engineering</td>\n",
       "      <td>7</td>\n",
       "    </tr>\n",
       "    <tr>\n",
       "      <th>3</th>\n",
       "      <td>machine learning</td>\n",
       "      <td>179</td>\n",
       "    </tr>\n",
       "    <tr>\n",
       "      <th>4</th>\n",
       "      <td>statistics</td>\n",
       "      <td>128</td>\n",
       "    </tr>\n",
       "    <tr>\n",
       "      <th>5</th>\n",
       "      <td>deep learning</td>\n",
       "      <td>138</td>\n",
       "    </tr>\n",
       "    <tr>\n",
       "      <th>6</th>\n",
       "      <td>natural language processing</td>\n",
       "      <td>13</td>\n",
       "    </tr>\n",
       "    <tr>\n",
       "      <th>7</th>\n",
       "      <td>total</td>\n",
       "      <td>604</td>\n",
       "    </tr>\n",
       "  </tbody>\n",
       "</table>\n",
       "</div>"
      ],
      "text/plain": [
       "                     keyphrase  book count\n",
       "0                 data science         111\n",
       "1               data analytics          28\n",
       "2             data engineering           7\n",
       "3             machine learning         179\n",
       "4                   statistics         128\n",
       "5                deep learning         138\n",
       "6  natural language processing          13\n",
       "7                        total         604"
      ]
     },
     "execution_count": 9,
     "metadata": {},
     "output_type": "execute_result"
    }
   ],
   "source": [
    "### inspect book titles carefully: they can be roughly split by keyphrases:\n",
    "### ['data science', 'data analytics', 'data engineering', 'machine learning', 'statistics', \n",
    "### 'deep learning', 'natural language processing']\n",
    "\n",
    "### a book belongs to one of the above categories if its name contains the corresponding keyphrase\n",
    "### display the number of books that fall into each category and their total, in the same table\n",
    "### some books may not belong to any of the listed above categories\n",
    "### category match should be case insensitive\n",
    "\n",
    "keyphrases = ['data science', 'data analytics', 'data engineering', 'machine learning', 'statistics', 'deep learning', 'natural language processing']\n",
    "keyphrase_df = pd.DataFrame()\n",
    "\n",
    "df[\"title\"] = df[\"title\"].str.lower()\n",
    "for keyphrase in keyphrases:\n",
    "    keyphrase_df[keyphrase] = df[\"title\"].str.contains(keyphrase, case=False, na=False)\n",
    "keyphrase_count = keyphrase_df.sum()\n",
    "keyphrase_count_df = pd.DataFrame(keyphrase_count).reset_index()\n",
    "keyphrase_count_df.columns = ['keyphrase', 'book count']\n",
    "keyphrase_count_df.loc[len(keyphrase_count_df)] = ['total', keyphrase_count_df[\"book count\"].sum()]\n",
    "keyphrase_count_df\n"
   ]
  },
  {
   "cell_type": "markdown",
   "id": "0c9f0ced-0fec-4ffa-a490-81dc78899680",
   "metadata": {},
   "source": [
    "#### Question 7"
   ]
  },
  {
   "cell_type": "code",
   "execution_count": 10,
   "id": "403786ac-bcad-4b79-af8c-37e2885deb78",
   "metadata": {},
   "outputs": [
    {
     "data": {
      "text/html": [
       "<div>\n",
       "<style scoped>\n",
       "    .dataframe tbody tr th:only-of-type {\n",
       "        vertical-align: middle;\n",
       "    }\n",
       "\n",
       "    .dataframe tbody tr th {\n",
       "        vertical-align: top;\n",
       "    }\n",
       "\n",
       "    .dataframe thead th {\n",
       "        text-align: right;\n",
       "    }\n",
       "</style>\n",
       "<table border=\"1\" class=\"dataframe\">\n",
       "  <thead>\n",
       "    <tr style=\"text-align: right;\">\n",
       "      <th></th>\n",
       "      <th>keyphrase</th>\n",
       "      <th>book count</th>\n",
       "    </tr>\n",
       "  </thead>\n",
       "  <tbody>\n",
       "    <tr>\n",
       "      <th>0</th>\n",
       "      <td>machine learning</td>\n",
       "      <td>179</td>\n",
       "    </tr>\n",
       "    <tr>\n",
       "      <th>1</th>\n",
       "      <td>deep learning</td>\n",
       "      <td>138</td>\n",
       "    </tr>\n",
       "    <tr>\n",
       "      <th>2</th>\n",
       "      <td>statistics</td>\n",
       "      <td>128</td>\n",
       "    </tr>\n",
       "    <tr>\n",
       "      <th>3</th>\n",
       "      <td>data science</td>\n",
       "      <td>111</td>\n",
       "    </tr>\n",
       "    <tr>\n",
       "      <th>4</th>\n",
       "      <td>data analytics</td>\n",
       "      <td>28</td>\n",
       "    </tr>\n",
       "    <tr>\n",
       "      <th>5</th>\n",
       "      <td>natural language processing</td>\n",
       "      <td>13</td>\n",
       "    </tr>\n",
       "    <tr>\n",
       "      <th>6</th>\n",
       "      <td>data engineering</td>\n",
       "      <td>7</td>\n",
       "    </tr>\n",
       "  </tbody>\n",
       "</table>\n",
       "</div>"
      ],
      "text/plain": [
       "                     keyphrase  book count\n",
       "0             machine learning         179\n",
       "1                deep learning         138\n",
       "2                   statistics         128\n",
       "3                 data science         111\n",
       "4               data analytics          28\n",
       "5  natural language processing          13\n",
       "6             data engineering           7"
      ]
     },
     "execution_count": 10,
     "metadata": {},
     "output_type": "execute_result"
    }
   ],
   "source": [
    "### display the same result where the dataframe is sorted by the number of books, descending\n",
    "### no need to display the total amount in this result - drop it\n",
    "\n",
    "\n",
    "keyphrase_count_df = keyphrase_count_df.drop(index=len(keyphrase_count_df)-1)\n",
    "keyphrase_count_df = keyphrase_count_df.sort_values(\"book count\", ascending=False).reset_index(drop=True)\n",
    "keyphrase_count_df"
   ]
  },
  {
   "cell_type": "markdown",
   "id": "877ac449-b9cd-425e-873f-74e93dcfda45",
   "metadata": {},
   "source": [
    "#### Question 8"
   ]
  },
  {
   "cell_type": "code",
   "execution_count": 11,
   "id": "f9c6e631-a9de-49e9-95e7-c919bf789c90",
   "metadata": {},
   "outputs": [
    {
     "name": "stdout",
     "output_type": "stream",
     "text": [
      "Calculated portion: 0.5467452952462635\n",
      "Empirical portion: 0.5403\n"
     ]
    }
   ],
   "source": [
    "### sample 10000 values from N~(50, 10)\n",
    "### for this pirpose use https://numpy.org/doc/stable/reference/random/generated/numpy.random.normal.html\n",
    "\n",
    "### what portion of the distribution is found in the range (42.5, 57.5)? -- calculate using z table\n",
    "### (recall the NormalDist().cdf() function we used at the lecture)\n",
    "\n",
    "### what portion of the distribution is found in the range (42.5, 57.5)? -- compute empirically using the sampled values\n",
    "### report both values (calculated and empirical)\n",
    "import numpy as np\n",
    "from statistics import NormalDist\n",
    "\n",
    "mean = 50\n",
    "std = 10\n",
    "lower = 42.5\n",
    "upper = 57.5\n",
    "s = np.random.normal(mean, std, 10000)\n",
    "\n",
    "z_lower = (lower-mean)/std\n",
    "z_upper = (upper-mean)/std\n",
    "calculated_portion = NormalDist().cdf(z_upper) - NormalDist().cdf(z_lower)\n",
    "\n",
    "empirical_portion = ((s >= lower) & (s <= upper)).mean()\n",
    "\n",
    "print(f\"Calculated portion: {calculated_portion}\")\n",
    "print(f\"Empirical portion: {empirical_portion}\")\n",
    "\n"
   ]
  },
  {
   "cell_type": "markdown",
   "id": "d58f2b66-dc90-4c54-9499-66c46e3a192f",
   "metadata": {},
   "source": [
    "#### Question 9"
   ]
  },
  {
   "cell_type": "code",
   "execution_count": 12,
   "id": "1ca084c9-3a03-4219-9530-8bc6437a7a70",
   "metadata": {},
   "outputs": [
    {
     "name": "stdout",
     "output_type": "stream",
     "text": [
      "confidence interval of 90% for book price is: [50.15, 54.06] dollars\n"
     ]
    }
   ],
   "source": [
    "### compute confidence interval of 90% for the true population mean of a book price on Amazon\n",
    "### report left and right boundaries\n",
    "\n",
    "\n",
    "def confidence_interval(data, alpha):\n",
    "    mean, std, n = data.mean(), data.std(), len(data)\n",
    "    z = NormalDist().inv_cdf(1-alpha/2.0)\n",
    "    left, right = mean-z*std/(n**0.5), mean+z*std/(n**0.5)\n",
    "    return left, right\n",
    "\n",
    "price = df[\"price\"]\n",
    "left, right = confidence_interval(price, 0.1)\n",
    "print(f\"confidence interval of 90% for book price is: [{round(left, 2)}, {round(right, 2)}] dollars\")"
   ]
  },
  {
   "cell_type": "markdown",
   "id": "5a077478-b75e-4592-ae78-745678fa0820",
   "metadata": {},
   "source": [
    "#### Question 10"
   ]
  },
  {
   "cell_type": "code",
   "execution_count": 13,
   "id": "5aa994a1-d98f-4b12-aabf-9af310b49523",
   "metadata": {},
   "outputs": [],
   "source": [
    "### can one say with 85% confidence that the true population mean of a book price resides within the [49.0, 54.0] interval?\n",
    "### show your computations, and print your answer: yes or no"
   ]
  },
  {
   "cell_type": "code",
   "execution_count": 14,
   "id": "636a0b93-4aa1-4a49-a7b1-2ab9f58a124f",
   "metadata": {},
   "outputs": [
    {
     "name": "stdout",
     "output_type": "stream",
     "text": [
      "yes\n"
     ]
    }
   ],
   "source": [
    "left, right = confidence_interval(price, 0.15)\n",
    "if 49<left and right<54:\n",
    "    print(\"yes\")\n",
    "else:\n",
    "    print(\"no\")"
   ]
  }
 ],
 "metadata": {
  "kernelspec": {
   "display_name": "base",
   "language": "python",
   "name": "python3"
  },
  "language_info": {
   "codemirror_mode": {
    "name": "ipython",
    "version": 3
   },
   "file_extension": ".py",
   "mimetype": "text/x-python",
   "name": "python",
   "nbconvert_exporter": "python",
   "pygments_lexer": "ipython3",
   "version": "3.9.13"
  }
 },
 "nbformat": 4,
 "nbformat_minor": 5
}
